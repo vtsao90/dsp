{
 "cells": [
  {
   "cell_type": "code",
   "execution_count": 24,
   "metadata": {
    "collapsed": true
   },
   "outputs": [],
   "source": [
    "nums = [1,2,2,3]\n",
    "\n",
    "def remove_adjacent(nums):\n",
    "    s = []\n",
    "    m = len(nums)\n",
    "    index = 0\n",
    "    while index < m - 1:\n",
    "        if nums[index] != nums[index + 1]:\n",
    "            s.append(nums[index])\n",
    "        index += 1\n",
    "    s.append(nums[m - 1])\n",
    "    print(s)\n",
    "        "
   ]
  },
  {
   "cell_type": "code",
   "execution_count": 25,
   "metadata": {},
   "outputs": [
    {
     "name": "stdout",
     "output_type": "stream",
     "text": [
      "[1, 2, 3]\n"
     ]
    }
   ],
   "source": [
    "remove_adjacent(nums)"
   ]
  },
  {
   "cell_type": "code",
   "execution_count": 32,
   "metadata": {},
   "outputs": [
    {
     "data": {
      "text/plain": [
       "False"
      ]
     },
     "execution_count": 32,
     "metadata": {},
     "output_type": "execute_result"
    }
   ],
   "source": [
    "'ae' < 'ae'"
   ]
  },
  {
   "cell_type": "code",
   "execution_count": null,
   "metadata": {
    "collapsed": true
   },
   "outputs": [],
   "source": [
    "def linear_merge(list1, list2):\n",
    "    index = 0\n",
    "    new_list = []\n",
    "    while  len(list1) != 0 | len(list2) != 0:\n",
    "        if list1[0] < list2[0]:\n",
    "            new_list.append(list1[0])\n",
    "            list1.remove(list1[0])    \n",
    "        else:\n",
    "            new_list.append(list2[0])\n",
    "            list2.remove(list2[0])    \n",
    "    if len(list1) == 0:\n",
    "        new_list + list2\n",
    "    else:\n",
    "        new_list + list1\n",
    "    print(new_list)"
   ]
  }
 ],
 "metadata": {
  "kernelspec": {
   "display_name": "Python 3",
   "language": "python",
   "name": "python3"
  },
  "language_info": {
   "codemirror_mode": {
    "name": "ipython",
    "version": 3
   },
   "file_extension": ".py",
   "mimetype": "text/x-python",
   "name": "python",
   "nbconvert_exporter": "python",
   "pygments_lexer": "ipython3",
   "version": "3.6.3"
  }
 },
 "nbformat": 4,
 "nbformat_minor": 2
}
